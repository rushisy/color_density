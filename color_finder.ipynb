{
 "cells": [
  {
   "cell_type": "code",
   "execution_count": 20,
   "metadata": {},
   "outputs": [
    {
     "name": "stdout",
     "output_type": "stream",
     "text": [
      "Processing genre: afropes\n",
      "Processing file: /Users/rushisy/Projects/color_density/data/afropes/IMG_4878.HEIC\n"
     ]
    },
    {
     "name": "stderr",
     "output_type": "stream",
     "text": [
      "/Users/rushisy/miniforge3/envs/color_density/lib/python3.8/site-packages/sklearn/cluster/_kmeans.py:1416: FutureWarning: The default value of `n_init` will change from 10 to 'auto' in 1.4. Set the value of `n_init` explicitly to suppress the warning\n",
      "  super()._check_params_vs_input(X, default_n_init=10)\n"
     ]
    },
    {
     "name": "stdout",
     "output_type": "stream",
     "text": [
      "IMG_4878.HEIC - Top 3 colors (RGB): [[151 127  97]\n",
      " [ 55  57  56]\n",
      " [216 195 167]]\n",
      "Processing file: /Users/rushisy/Projects/color_density/data/afropes/IMG_4881.HEIC\n"
     ]
    },
    {
     "name": "stderr",
     "output_type": "stream",
     "text": [
      "/Users/rushisy/miniforge3/envs/color_density/lib/python3.8/site-packages/sklearn/cluster/_kmeans.py:1416: FutureWarning: The default value of `n_init` will change from 10 to 'auto' in 1.4. Set the value of `n_init` explicitly to suppress the warning\n",
      "  super()._check_params_vs_input(X, default_n_init=10)\n"
     ]
    },
    {
     "name": "stdout",
     "output_type": "stream",
     "text": [
      "IMG_4881.HEIC - Top 3 colors (RGB): [[118 115 110]\n",
      " [204 200 187]\n",
      " [ 76  74  71]]\n",
      "Processing file: /Users/rushisy/Projects/color_density/data/afropes/IMG_4874.HEIC\n"
     ]
    },
    {
     "name": "stderr",
     "output_type": "stream",
     "text": [
      "/Users/rushisy/miniforge3/envs/color_density/lib/python3.8/site-packages/sklearn/cluster/_kmeans.py:1416: FutureWarning: The default value of `n_init` will change from 10 to 'auto' in 1.4. Set the value of `n_init` explicitly to suppress the warning\n",
      "  super()._check_params_vs_input(X, default_n_init=10)\n"
     ]
    },
    {
     "name": "stdout",
     "output_type": "stream",
     "text": [
      "IMG_4874.HEIC - Top 3 colors (RGB): [[139 128 121]\n",
      " [209 206 195]\n",
      " [ 55  56  59]]\n",
      "Processing file: /Users/rushisy/Projects/color_density/data/afropes/IMG_4875.HEIC\n"
     ]
    },
    {
     "name": "stderr",
     "output_type": "stream",
     "text": [
      "/Users/rushisy/miniforge3/envs/color_density/lib/python3.8/site-packages/sklearn/cluster/_kmeans.py:1416: FutureWarning: The default value of `n_init` will change from 10 to 'auto' in 1.4. Set the value of `n_init` explicitly to suppress the warning\n",
      "  super()._check_params_vs_input(X, default_n_init=10)\n"
     ]
    },
    {
     "name": "stdout",
     "output_type": "stream",
     "text": [
      "IMG_4875.HEIC - Top 3 colors (RGB): [[102 101  97]\n",
      " [180 169 143]\n",
      " [ 34  30  29]]\n",
      "Processing file: /Users/rushisy/Projects/color_density/data/afropes/IMG_4880.HEIC\n"
     ]
    },
    {
     "name": "stderr",
     "output_type": "stream",
     "text": [
      "/Users/rushisy/miniforge3/envs/color_density/lib/python3.8/site-packages/sklearn/cluster/_kmeans.py:1416: FutureWarning: The default value of `n_init` will change from 10 to 'auto' in 1.4. Set the value of `n_init` explicitly to suppress the warning\n",
      "  super()._check_params_vs_input(X, default_n_init=10)\n"
     ]
    },
    {
     "name": "stdout",
     "output_type": "stream",
     "text": [
      "IMG_4880.HEIC - Top 3 colors (RGB): [[218 210 196]\n",
      " [ 73  67  64]\n",
      " [144 136 124]]\n",
      "Processing file: /Users/rushisy/Projects/color_density/data/afropes/IMG_4879.HEIC\n"
     ]
    },
    {
     "name": "stderr",
     "output_type": "stream",
     "text": [
      "/Users/rushisy/miniforge3/envs/color_density/lib/python3.8/site-packages/sklearn/cluster/_kmeans.py:1416: FutureWarning: The default value of `n_init` will change from 10 to 'auto' in 1.4. Set the value of `n_init` explicitly to suppress the warning\n",
      "  super()._check_params_vs_input(X, default_n_init=10)\n"
     ]
    },
    {
     "name": "stdout",
     "output_type": "stream",
     "text": [
      "IMG_4879.HEIC - Top 3 colors (RGB): [[182 166 149]\n",
      " [124 124 111]\n",
      " [ 80  82  71]]\n",
      "Processing file: /Users/rushisy/Projects/color_density/data/afropes/IMG_4872.HEIC\n"
     ]
    },
    {
     "name": "stderr",
     "output_type": "stream",
     "text": [
      "/Users/rushisy/miniforge3/envs/color_density/lib/python3.8/site-packages/sklearn/cluster/_kmeans.py:1416: FutureWarning: The default value of `n_init` will change from 10 to 'auto' in 1.4. Set the value of `n_init` explicitly to suppress the warning\n",
      "  super()._check_params_vs_input(X, default_n_init=10)\n"
     ]
    },
    {
     "name": "stdout",
     "output_type": "stream",
     "text": [
      "IMG_4872.HEIC - Top 3 colors (RGB): [[ 62  80 129]\n",
      " [121 164 188]\n",
      " [205 189 159]]\n",
      "Processing file: /Users/rushisy/Projects/color_density/data/afropes/IMG_4891.HEIC\n"
     ]
    },
    {
     "name": "stderr",
     "output_type": "stream",
     "text": [
      "/Users/rushisy/miniforge3/envs/color_density/lib/python3.8/site-packages/sklearn/cluster/_kmeans.py:1416: FutureWarning: The default value of `n_init` will change from 10 to 'auto' in 1.4. Set the value of `n_init` explicitly to suppress the warning\n",
      "  super()._check_params_vs_input(X, default_n_init=10)\n"
     ]
    },
    {
     "name": "stdout",
     "output_type": "stream",
     "text": [
      "IMG_4891.HEIC - Top 3 colors (RGB): [[ 76  74  72]\n",
      " [116 113 106]\n",
      " [176 165 139]]\n",
      "Processing file: /Users/rushisy/Projects/color_density/data/afropes/IMG_4887.HEIC\n"
     ]
    },
    {
     "name": "stderr",
     "output_type": "stream",
     "text": [
      "/Users/rushisy/miniforge3/envs/color_density/lib/python3.8/site-packages/sklearn/cluster/_kmeans.py:1416: FutureWarning: The default value of `n_init` will change from 10 to 'auto' in 1.4. Set the value of `n_init` explicitly to suppress the warning\n",
      "  super()._check_params_vs_input(X, default_n_init=10)\n"
     ]
    },
    {
     "name": "stdout",
     "output_type": "stream",
     "text": [
      "IMG_4887.HEIC - Top 3 colors (RGB): [[210 207 198]\n",
      " [100  96  93]\n",
      " [163 158 150]]\n",
      "Processing file: /Users/rushisy/Projects/color_density/data/afropes/IMG_4886.HEIC\n"
     ]
    },
    {
     "name": "stderr",
     "output_type": "stream",
     "text": [
      "/Users/rushisy/miniforge3/envs/color_density/lib/python3.8/site-packages/sklearn/cluster/_kmeans.py:1416: FutureWarning: The default value of `n_init` will change from 10 to 'auto' in 1.4. Set the value of `n_init` explicitly to suppress the warning\n",
      "  super()._check_params_vs_input(X, default_n_init=10)\n"
     ]
    },
    {
     "name": "stdout",
     "output_type": "stream",
     "text": [
      "IMG_4886.HEIC - Top 3 colors (RGB): [[205 200 190]\n",
      " [ 75  69  65]\n",
      " [135 124 115]]\n",
      "Processing file: /Users/rushisy/Projects/color_density/data/afropes/IMG_4890.HEIC\n"
     ]
    },
    {
     "name": "stderr",
     "output_type": "stream",
     "text": [
      "/Users/rushisy/miniforge3/envs/color_density/lib/python3.8/site-packages/sklearn/cluster/_kmeans.py:1416: FutureWarning: The default value of `n_init` will change from 10 to 'auto' in 1.4. Set the value of `n_init` explicitly to suppress the warning\n",
      "  super()._check_params_vs_input(X, default_n_init=10)\n"
     ]
    },
    {
     "name": "stdout",
     "output_type": "stream",
     "text": [
      "IMG_4890.HEIC - Top 3 colors (RGB): [[157 120  86]\n",
      " [236 192 118]\n",
      " [ 88  69  53]]\n",
      "Processing file: /Users/rushisy/Projects/color_density/data/afropes/IMG_4873.HEIC\n"
     ]
    },
    {
     "name": "stderr",
     "output_type": "stream",
     "text": [
      "/Users/rushisy/miniforge3/envs/color_density/lib/python3.8/site-packages/sklearn/cluster/_kmeans.py:1416: FutureWarning: The default value of `n_init` will change from 10 to 'auto' in 1.4. Set the value of `n_init` explicitly to suppress the warning\n",
      "  super()._check_params_vs_input(X, default_n_init=10)\n"
     ]
    },
    {
     "name": "stdout",
     "output_type": "stream",
     "text": [
      "IMG_4873.HEIC - Top 3 colors (RGB): [[193 180 161]\n",
      " [ 87  71  72]\n",
      " [134 132 123]]\n",
      "Processing file: /Users/rushisy/Projects/color_density/data/afropes/IMG_4889.HEIC\n"
     ]
    },
    {
     "name": "stderr",
     "output_type": "stream",
     "text": [
      "/Users/rushisy/miniforge3/envs/color_density/lib/python3.8/site-packages/sklearn/cluster/_kmeans.py:1416: FutureWarning: The default value of `n_init` will change from 10 to 'auto' in 1.4. Set the value of `n_init` explicitly to suppress the warning\n",
      "  super()._check_params_vs_input(X, default_n_init=10)\n"
     ]
    },
    {
     "name": "stdout",
     "output_type": "stream",
     "text": [
      "IMG_4889.HEIC - Top 3 colors (RGB): [[ 88  81  80]\n",
      " [191 175 169]\n",
      " [200  74  81]]\n",
      "Processing file: /Users/rushisy/Projects/color_density/data/afropes/IMG_4885.HEIC\n"
     ]
    },
    {
     "name": "stderr",
     "output_type": "stream",
     "text": [
      "/Users/rushisy/miniforge3/envs/color_density/lib/python3.8/site-packages/sklearn/cluster/_kmeans.py:1416: FutureWarning: The default value of `n_init` will change from 10 to 'auto' in 1.4. Set the value of `n_init` explicitly to suppress the warning\n",
      "  super()._check_params_vs_input(X, default_n_init=10)\n"
     ]
    },
    {
     "name": "stdout",
     "output_type": "stream",
     "text": [
      "IMG_4885.HEIC - Top 3 colors (RGB): [[ 81  82  79]\n",
      " [116 119 117]\n",
      " [130 175 198]]\n",
      "Processing file: /Users/rushisy/Projects/color_density/data/afropes/IMG_4893.HEIC\n"
     ]
    },
    {
     "name": "stderr",
     "output_type": "stream",
     "text": [
      "/Users/rushisy/miniforge3/envs/color_density/lib/python3.8/site-packages/sklearn/cluster/_kmeans.py:1416: FutureWarning: The default value of `n_init` will change from 10 to 'auto' in 1.4. Set the value of `n_init` explicitly to suppress the warning\n",
      "  super()._check_params_vs_input(X, default_n_init=10)\n"
     ]
    },
    {
     "name": "stdout",
     "output_type": "stream",
     "text": [
      "IMG_4893.HEIC - Top 3 colors (RGB): [[127 114 104]\n",
      " [204 197 183]\n",
      " [ 90  73  67]]\n",
      "Processing file: /Users/rushisy/Projects/color_density/data/afropes/IMG_4892.HEIC\n"
     ]
    },
    {
     "name": "stderr",
     "output_type": "stream",
     "text": [
      "/Users/rushisy/miniforge3/envs/color_density/lib/python3.8/site-packages/sklearn/cluster/_kmeans.py:1416: FutureWarning: The default value of `n_init` will change from 10 to 'auto' in 1.4. Set the value of `n_init` explicitly to suppress the warning\n",
      "  super()._check_params_vs_input(X, default_n_init=10)\n"
     ]
    },
    {
     "name": "stdout",
     "output_type": "stream",
     "text": [
      "IMG_4892.HEIC - Top 3 colors (RGB): [[195 176 144]\n",
      " [138 111 102]\n",
      " [ 83  66  59]]\n",
      "Processing file: /Users/rushisy/Projects/color_density/data/afropes/IMG_4884.HEIC\n"
     ]
    },
    {
     "name": "stderr",
     "output_type": "stream",
     "text": [
      "/Users/rushisy/miniforge3/envs/color_density/lib/python3.8/site-packages/sklearn/cluster/_kmeans.py:1416: FutureWarning: The default value of `n_init` will change from 10 to 'auto' in 1.4. Set the value of `n_init` explicitly to suppress the warning\n",
      "  super()._check_params_vs_input(X, default_n_init=10)\n"
     ]
    },
    {
     "name": "stdout",
     "output_type": "stream",
     "text": [
      "IMG_4884.HEIC - Top 3 colors (RGB): [[145 121 119]\n",
      " [229 222 204]\n",
      " [ 72  64  66]]\n",
      "Processing file: /Users/rushisy/Projects/color_density/data/afropes/IMG_4871.HEIC\n"
     ]
    },
    {
     "name": "stderr",
     "output_type": "stream",
     "text": [
      "/Users/rushisy/miniforge3/envs/color_density/lib/python3.8/site-packages/sklearn/cluster/_kmeans.py:1416: FutureWarning: The default value of `n_init` will change from 10 to 'auto' in 1.4. Set the value of `n_init` explicitly to suppress the warning\n",
      "  super()._check_params_vs_input(X, default_n_init=10)\n"
     ]
    },
    {
     "name": "stdout",
     "output_type": "stream",
     "text": [
      "IMG_4871.HEIC - Top 3 colors (RGB): [[121 119 113]\n",
      " [ 73  75  77]\n",
      " [181 175 155]]\n",
      "Processing file: /Users/rushisy/Projects/color_density/data/afropes/IMG_4888.HEIC\n"
     ]
    },
    {
     "name": "stderr",
     "output_type": "stream",
     "text": [
      "/Users/rushisy/miniforge3/envs/color_density/lib/python3.8/site-packages/sklearn/cluster/_kmeans.py:1416: FutureWarning: The default value of `n_init` will change from 10 to 'auto' in 1.4. Set the value of `n_init` explicitly to suppress the warning\n",
      "  super()._check_params_vs_input(X, default_n_init=10)\n"
     ]
    },
    {
     "name": "stdout",
     "output_type": "stream",
     "text": [
      "IMG_4888.HEIC - Top 3 colors (RGB): [[ 41 126 174]\n",
      " [194 188 172]\n",
      " [100  94  86]]\n",
      "Processing file: /Users/rushisy/Projects/color_density/data/afropes/IMG_4883.HEIC\n"
     ]
    },
    {
     "name": "stderr",
     "output_type": "stream",
     "text": [
      "/Users/rushisy/miniforge3/envs/color_density/lib/python3.8/site-packages/sklearn/cluster/_kmeans.py:1416: FutureWarning: The default value of `n_init` will change from 10 to 'auto' in 1.4. Set the value of `n_init` explicitly to suppress the warning\n",
      "  super()._check_params_vs_input(X, default_n_init=10)\n"
     ]
    },
    {
     "name": "stdout",
     "output_type": "stream",
     "text": [
      "IMG_4883.HEIC - Top 3 colors (RGB): [[194 184 167]\n",
      " [157 147 130]\n",
      " [ 66  60  65]]\n",
      "Processing file: /Users/rushisy/Projects/color_density/data/afropes/IMG_4895.HEIC\n"
     ]
    },
    {
     "name": "stderr",
     "output_type": "stream",
     "text": [
      "/Users/rushisy/miniforge3/envs/color_density/lib/python3.8/site-packages/sklearn/cluster/_kmeans.py:1416: FutureWarning: The default value of `n_init` will change from 10 to 'auto' in 1.4. Set the value of `n_init` explicitly to suppress the warning\n",
      "  super()._check_params_vs_input(X, default_n_init=10)\n"
     ]
    },
    {
     "name": "stdout",
     "output_type": "stream",
     "text": [
      "IMG_4895.HEIC - Top 3 colors (RGB): [[ 64  62  61]\n",
      " [184 182 172]\n",
      " [110 109 104]]\n",
      "Processing file: /Users/rushisy/Projects/color_density/data/afropes/IMG_4876.HEIC\n"
     ]
    },
    {
     "name": "stderr",
     "output_type": "stream",
     "text": [
      "/Users/rushisy/miniforge3/envs/color_density/lib/python3.8/site-packages/sklearn/cluster/_kmeans.py:1416: FutureWarning: The default value of `n_init` will change from 10 to 'auto' in 1.4. Set the value of `n_init` explicitly to suppress the warning\n",
      "  super()._check_params_vs_input(X, default_n_init=10)\n"
     ]
    },
    {
     "name": "stdout",
     "output_type": "stream",
     "text": [
      "IMG_4876.HEIC - Top 3 colors (RGB): [[222 219 211]\n",
      " [ 97  88  81]\n",
      " [164 146 125]]\n",
      "Processing file: /Users/rushisy/Projects/color_density/data/afropes/IMG_4877.HEIC\n"
     ]
    },
    {
     "name": "stderr",
     "output_type": "stream",
     "text": [
      "/Users/rushisy/miniforge3/envs/color_density/lib/python3.8/site-packages/sklearn/cluster/_kmeans.py:1416: FutureWarning: The default value of `n_init` will change from 10 to 'auto' in 1.4. Set the value of `n_init` explicitly to suppress the warning\n",
      "  super()._check_params_vs_input(X, default_n_init=10)\n"
     ]
    },
    {
     "name": "stdout",
     "output_type": "stream",
     "text": [
      "IMG_4877.HEIC - Top 3 colors (RGB): [[164 149 140]\n",
      " [ 75  71  76]\n",
      " [217 211 196]]\n",
      "Processing file: /Users/rushisy/Projects/color_density/data/afropes/IMG_4894.HEIC\n"
     ]
    },
    {
     "name": "stderr",
     "output_type": "stream",
     "text": [
      "/Users/rushisy/miniforge3/envs/color_density/lib/python3.8/site-packages/sklearn/cluster/_kmeans.py:1416: FutureWarning: The default value of `n_init` will change from 10 to 'auto' in 1.4. Set the value of `n_init` explicitly to suppress the warning\n",
      "  super()._check_params_vs_input(X, default_n_init=10)\n"
     ]
    },
    {
     "name": "stdout",
     "output_type": "stream",
     "text": [
      "IMG_4894.HEIC - Top 3 colors (RGB): [[224 220 212]\n",
      " [ 71  67  69]\n",
      " [151 128 119]]\n",
      "Processing file: /Users/rushisy/Projects/color_density/data/afropes/IMG_4882.HEIC\n"
     ]
    },
    {
     "name": "stderr",
     "output_type": "stream",
     "text": [
      "/Users/rushisy/miniforge3/envs/color_density/lib/python3.8/site-packages/sklearn/cluster/_kmeans.py:1416: FutureWarning: The default value of `n_init` will change from 10 to 'auto' in 1.4. Set the value of `n_init` explicitly to suppress the warning\n",
      "  super()._check_params_vs_input(X, default_n_init=10)\n"
     ]
    },
    {
     "name": "stdout",
     "output_type": "stream",
     "text": [
      "IMG_4882.HEIC - Top 3 colors (RGB): [[212 196 164]\n",
      " [ 72  62  62]\n",
      " [144 124 151]]\n",
      "Processing genre: russian\n",
      "Processing file: /Users/rushisy/Projects/color_density/data/russian/IMG_4907.HEIC\n"
     ]
    },
    {
     "name": "stderr",
     "output_type": "stream",
     "text": [
      "/Users/rushisy/miniforge3/envs/color_density/lib/python3.8/site-packages/sklearn/cluster/_kmeans.py:1416: FutureWarning: The default value of `n_init` will change from 10 to 'auto' in 1.4. Set the value of `n_init` explicitly to suppress the warning\n",
      "  super()._check_params_vs_input(X, default_n_init=10)\n"
     ]
    },
    {
     "name": "stdout",
     "output_type": "stream",
     "text": [
      "IMG_4907.HEIC - Top 3 colors (RGB): [[ 67  60  60]\n",
      " [152 143 137]\n",
      " [103 101 110]]\n",
      "Processing file: /Users/rushisy/Projects/color_density/data/russian/IMG_4911.HEIC\n"
     ]
    },
    {
     "name": "stderr",
     "output_type": "stream",
     "text": [
      "/Users/rushisy/miniforge3/envs/color_density/lib/python3.8/site-packages/sklearn/cluster/_kmeans.py:1416: FutureWarning: The default value of `n_init` will change from 10 to 'auto' in 1.4. Set the value of `n_init` explicitly to suppress the warning\n",
      "  super()._check_params_vs_input(X, default_n_init=10)\n"
     ]
    },
    {
     "name": "stdout",
     "output_type": "stream",
     "text": [
      "IMG_4911.HEIC - Top 3 colors (RGB): [[ 80 107 161]\n",
      " [231 217 182]\n",
      " [ 40  39  45]]\n",
      "Processing file: /Users/rushisy/Projects/color_density/data/russian/IMG_4897.HEIC\n"
     ]
    },
    {
     "name": "stderr",
     "output_type": "stream",
     "text": [
      "/Users/rushisy/miniforge3/envs/color_density/lib/python3.8/site-packages/sklearn/cluster/_kmeans.py:1416: FutureWarning: The default value of `n_init` will change from 10 to 'auto' in 1.4. Set the value of `n_init` explicitly to suppress the warning\n",
      "  super()._check_params_vs_input(X, default_n_init=10)\n"
     ]
    },
    {
     "name": "stdout",
     "output_type": "stream",
     "text": [
      "IMG_4897.HEIC - Top 3 colors (RGB): [[102 106 102]\n",
      " [153 149 140]\n",
      " [ 66  70  68]]\n",
      "Processing file: /Users/rushisy/Projects/color_density/data/russian/IMG_4896.HEIC\n"
     ]
    },
    {
     "name": "stderr",
     "output_type": "stream",
     "text": [
      "/Users/rushisy/miniforge3/envs/color_density/lib/python3.8/site-packages/sklearn/cluster/_kmeans.py:1416: FutureWarning: The default value of `n_init` will change from 10 to 'auto' in 1.4. Set the value of `n_init` explicitly to suppress the warning\n",
      "  super()._check_params_vs_input(X, default_n_init=10)\n"
     ]
    },
    {
     "name": "stdout",
     "output_type": "stream",
     "text": [
      "IMG_4896.HEIC - Top 3 colors (RGB): [[164 158 147]\n",
      " [129  96  93]\n",
      " [191 187 177]]\n",
      "Processing file: /Users/rushisy/Projects/color_density/data/russian/IMG_4910.HEIC\n"
     ]
    },
    {
     "name": "stderr",
     "output_type": "stream",
     "text": [
      "/Users/rushisy/miniforge3/envs/color_density/lib/python3.8/site-packages/sklearn/cluster/_kmeans.py:1416: FutureWarning: The default value of `n_init` will change from 10 to 'auto' in 1.4. Set the value of `n_init` explicitly to suppress the warning\n",
      "  super()._check_params_vs_input(X, default_n_init=10)\n"
     ]
    },
    {
     "name": "stdout",
     "output_type": "stream",
     "text": [
      "IMG_4910.HEIC - Top 3 colors (RGB): [[215 205 185]\n",
      " [ 80  66  66]\n",
      " [172 162 148]]\n",
      "Processing file: /Users/rushisy/Projects/color_density/data/russian/IMG_4906.HEIC\n"
     ]
    },
    {
     "name": "stderr",
     "output_type": "stream",
     "text": [
      "/Users/rushisy/miniforge3/envs/color_density/lib/python3.8/site-packages/sklearn/cluster/_kmeans.py:1416: FutureWarning: The default value of `n_init` will change from 10 to 'auto' in 1.4. Set the value of `n_init` explicitly to suppress the warning\n",
      "  super()._check_params_vs_input(X, default_n_init=10)\n"
     ]
    },
    {
     "name": "stdout",
     "output_type": "stream",
     "text": [
      "IMG_4906.HEIC - Top 3 colors (RGB): [[140 112 101]\n",
      " [181 159 149]\n",
      " [ 69  57  55]]\n",
      "Processing file: /Users/rushisy/Projects/color_density/data/russian/IMG_4921.HEIC\n"
     ]
    },
    {
     "name": "stderr",
     "output_type": "stream",
     "text": [
      "/Users/rushisy/miniforge3/envs/color_density/lib/python3.8/site-packages/sklearn/cluster/_kmeans.py:1416: FutureWarning: The default value of `n_init` will change from 10 to 'auto' in 1.4. Set the value of `n_init` explicitly to suppress the warning\n",
      "  super()._check_params_vs_input(X, default_n_init=10)\n"
     ]
    },
    {
     "name": "stdout",
     "output_type": "stream",
     "text": [
      "IMG_4921.HEIC - Top 3 colors (RGB): [[217 210 194]\n",
      " [ 64  61  63]\n",
      " [144 144 156]]\n",
      "Processing file: /Users/rushisy/Projects/color_density/data/russian/IMG_4901.HEIC\n"
     ]
    },
    {
     "name": "stderr",
     "output_type": "stream",
     "text": [
      "/Users/rushisy/miniforge3/envs/color_density/lib/python3.8/site-packages/sklearn/cluster/_kmeans.py:1416: FutureWarning: The default value of `n_init` will change from 10 to 'auto' in 1.4. Set the value of `n_init` explicitly to suppress the warning\n",
      "  super()._check_params_vs_input(X, default_n_init=10)\n"
     ]
    },
    {
     "name": "stdout",
     "output_type": "stream",
     "text": [
      "IMG_4901.HEIC - Top 3 colors (RGB): [[124 128 123]\n",
      " [ 80  81  77]\n",
      " [209 195 168]]\n",
      "Processing file: /Users/rushisy/Projects/color_density/data/russian/IMG_4916.HEIC\n"
     ]
    },
    {
     "name": "stderr",
     "output_type": "stream",
     "text": [
      "/Users/rushisy/miniforge3/envs/color_density/lib/python3.8/site-packages/sklearn/cluster/_kmeans.py:1416: FutureWarning: The default value of `n_init` will change from 10 to 'auto' in 1.4. Set the value of `n_init` explicitly to suppress the warning\n",
      "  super()._check_params_vs_input(X, default_n_init=10)\n"
     ]
    },
    {
     "name": "stdout",
     "output_type": "stream",
     "text": [
      "IMG_4916.HEIC - Top 3 colors (RGB): [[136 128 124]\n",
      " [210 189 151]\n",
      " [ 60  55  58]]\n",
      "Processing file: /Users/rushisy/Projects/color_density/data/russian/IMG_4900.HEIC\n"
     ]
    },
    {
     "name": "stderr",
     "output_type": "stream",
     "text": [
      "/Users/rushisy/miniforge3/envs/color_density/lib/python3.8/site-packages/sklearn/cluster/_kmeans.py:1416: FutureWarning: The default value of `n_init` will change from 10 to 'auto' in 1.4. Set the value of `n_init` explicitly to suppress the warning\n",
      "  super()._check_params_vs_input(X, default_n_init=10)\n"
     ]
    },
    {
     "name": "stdout",
     "output_type": "stream",
     "text": [
      "IMG_4900.HEIC - Top 3 colors (RGB): [[161 156 151]\n",
      " [216 205 186]\n",
      " [ 72  63  62]]\n",
      "Processing file: /Users/rushisy/Projects/color_density/data/russian/IMG_4920.HEIC\n"
     ]
    },
    {
     "name": "stderr",
     "output_type": "stream",
     "text": [
      "/Users/rushisy/miniforge3/envs/color_density/lib/python3.8/site-packages/sklearn/cluster/_kmeans.py:1416: FutureWarning: The default value of `n_init` will change from 10 to 'auto' in 1.4. Set the value of `n_init` explicitly to suppress the warning\n",
      "  super()._check_params_vs_input(X, default_n_init=10)\n"
     ]
    },
    {
     "name": "stdout",
     "output_type": "stream",
     "text": [
      "IMG_4920.HEIC - Top 3 colors (RGB): [[189 177 164]\n",
      " [ 56  50  49]\n",
      " [206 201 187]]\n",
      "Processing file: /Users/rushisy/Projects/color_density/data/russian/IMG_4919.HEIC\n"
     ]
    },
    {
     "name": "stderr",
     "output_type": "stream",
     "text": [
      "/Users/rushisy/miniforge3/envs/color_density/lib/python3.8/site-packages/sklearn/cluster/_kmeans.py:1416: FutureWarning: The default value of `n_init` will change from 10 to 'auto' in 1.4. Set the value of `n_init` explicitly to suppress the warning\n",
      "  super()._check_params_vs_input(X, default_n_init=10)\n"
     ]
    },
    {
     "name": "stdout",
     "output_type": "stream",
     "text": [
      "IMG_4919.HEIC - Top 3 colors (RGB): [[181 100  92]\n",
      " [ 38  34  35]\n",
      " [207 165 147]]\n",
      "Processing file: /Users/rushisy/Projects/color_density/data/russian/IMG_4915.HEIC\n"
     ]
    },
    {
     "name": "stderr",
     "output_type": "stream",
     "text": [
      "/Users/rushisy/miniforge3/envs/color_density/lib/python3.8/site-packages/sklearn/cluster/_kmeans.py:1416: FutureWarning: The default value of `n_init` will change from 10 to 'auto' in 1.4. Set the value of `n_init` explicitly to suppress the warning\n",
      "  super()._check_params_vs_input(X, default_n_init=10)\n"
     ]
    },
    {
     "name": "stdout",
     "output_type": "stream",
     "text": [
      "IMG_4915.HEIC - Top 3 colors (RGB): [[162 161 153]\n",
      " [ 87  65  56]\n",
      " [205 191 156]]\n",
      "Processing file: /Users/rushisy/Projects/color_density/data/russian/IMG_4903.HEIC\n"
     ]
    },
    {
     "name": "stderr",
     "output_type": "stream",
     "text": [
      "/Users/rushisy/miniforge3/envs/color_density/lib/python3.8/site-packages/sklearn/cluster/_kmeans.py:1416: FutureWarning: The default value of `n_init` will change from 10 to 'auto' in 1.4. Set the value of `n_init` explicitly to suppress the warning\n",
      "  super()._check_params_vs_input(X, default_n_init=10)\n"
     ]
    },
    {
     "name": "stdout",
     "output_type": "stream",
     "text": [
      "IMG_4903.HEIC - Top 3 colors (RGB): [[141 136 135]\n",
      " [176 172 168]\n",
      " [ 79  64  48]]\n",
      "Processing file: /Users/rushisy/Projects/color_density/data/russian/IMG_4902.HEIC\n"
     ]
    },
    {
     "name": "stderr",
     "output_type": "stream",
     "text": [
      "/Users/rushisy/miniforge3/envs/color_density/lib/python3.8/site-packages/sklearn/cluster/_kmeans.py:1416: FutureWarning: The default value of `n_init` will change from 10 to 'auto' in 1.4. Set the value of `n_init` explicitly to suppress the warning\n",
      "  super()._check_params_vs_input(X, default_n_init=10)\n"
     ]
    },
    {
     "name": "stdout",
     "output_type": "stream",
     "text": [
      "IMG_4902.HEIC - Top 3 colors (RGB): [[ 62  52  54]\n",
      " [211 200 181]\n",
      " [142 121 116]]\n",
      "Processing file: /Users/rushisy/Projects/color_density/data/russian/IMG_4914.HEIC\n"
     ]
    },
    {
     "name": "stderr",
     "output_type": "stream",
     "text": [
      "/Users/rushisy/miniforge3/envs/color_density/lib/python3.8/site-packages/sklearn/cluster/_kmeans.py:1416: FutureWarning: The default value of `n_init` will change from 10 to 'auto' in 1.4. Set the value of `n_init` explicitly to suppress the warning\n",
      "  super()._check_params_vs_input(X, default_n_init=10)\n"
     ]
    },
    {
     "name": "stdout",
     "output_type": "stream",
     "text": [
      "IMG_4914.HEIC - Top 3 colors (RGB): [[159 153 142]\n",
      " [123 113 103]\n",
      " [ 72  68  64]]\n",
      "Processing file: /Users/rushisy/Projects/color_density/data/russian/IMG_4918.HEIC\n"
     ]
    },
    {
     "name": "stderr",
     "output_type": "stream",
     "text": [
      "/Users/rushisy/miniforge3/envs/color_density/lib/python3.8/site-packages/sklearn/cluster/_kmeans.py:1416: FutureWarning: The default value of `n_init` will change from 10 to 'auto' in 1.4. Set the value of `n_init` explicitly to suppress the warning\n",
      "  super()._check_params_vs_input(X, default_n_init=10)\n"
     ]
    },
    {
     "name": "stdout",
     "output_type": "stream",
     "text": [
      "IMG_4918.HEIC - Top 3 colors (RGB): [[200 202 201]\n",
      " [160 129  98]\n",
      " [ 71  65  57]]\n",
      "Processing file: /Users/rushisy/Projects/color_density/data/russian/IMG_4922.HEIC\n"
     ]
    },
    {
     "name": "stderr",
     "output_type": "stream",
     "text": [
      "/Users/rushisy/miniforge3/envs/color_density/lib/python3.8/site-packages/sklearn/cluster/_kmeans.py:1416: FutureWarning: The default value of `n_init` will change from 10 to 'auto' in 1.4. Set the value of `n_init` explicitly to suppress the warning\n",
      "  super()._check_params_vs_input(X, default_n_init=10)\n"
     ]
    },
    {
     "name": "stdout",
     "output_type": "stream",
     "text": [
      "IMG_4922.HEIC - Top 3 colors (RGB): [[191 187 174]\n",
      " [ 79  59  52]\n",
      " [163 158 147]]\n",
      "Processing file: /Users/rushisy/Projects/color_density/data/russian/IMG_4913.HEIC\n"
     ]
    },
    {
     "name": "stderr",
     "output_type": "stream",
     "text": [
      "/Users/rushisy/miniforge3/envs/color_density/lib/python3.8/site-packages/sklearn/cluster/_kmeans.py:1416: FutureWarning: The default value of `n_init` will change from 10 to 'auto' in 1.4. Set the value of `n_init` explicitly to suppress the warning\n",
      "  super()._check_params_vs_input(X, default_n_init=10)\n"
     ]
    },
    {
     "name": "stdout",
     "output_type": "stream",
     "text": [
      "IMG_4913.HEIC - Top 3 colors (RGB): [[137 173 168]\n",
      " [ 63  66  57]\n",
      " [ 94 139 135]]\n",
      "Processing file: /Users/rushisy/Projects/color_density/data/russian/IMG_4905.HEIC\n"
     ]
    },
    {
     "name": "stderr",
     "output_type": "stream",
     "text": [
      "/Users/rushisy/miniforge3/envs/color_density/lib/python3.8/site-packages/sklearn/cluster/_kmeans.py:1416: FutureWarning: The default value of `n_init` will change from 10 to 'auto' in 1.4. Set the value of `n_init` explicitly to suppress the warning\n",
      "  super()._check_params_vs_input(X, default_n_init=10)\n"
     ]
    },
    {
     "name": "stdout",
     "output_type": "stream",
     "text": [
      "IMG_4905.HEIC - Top 3 colors (RGB): [[216 205 185]\n",
      " [ 70  77  88]\n",
      " [173 160 147]]\n",
      "Processing file: /Users/rushisy/Projects/color_density/data/russian/IMG_4899.HEIC\n"
     ]
    },
    {
     "name": "stderr",
     "output_type": "stream",
     "text": [
      "/Users/rushisy/miniforge3/envs/color_density/lib/python3.8/site-packages/sklearn/cluster/_kmeans.py:1416: FutureWarning: The default value of `n_init` will change from 10 to 'auto' in 1.4. Set the value of `n_init` explicitly to suppress the warning\n",
      "  super()._check_params_vs_input(X, default_n_init=10)\n"
     ]
    },
    {
     "name": "stdout",
     "output_type": "stream",
     "text": [
      "IMG_4899.HEIC - Top 3 colors (RGB): [[210 206 181]\n",
      " [146 143 127]\n",
      " [ 56  53  58]]\n",
      "Processing file: /Users/rushisy/Projects/color_density/data/russian/IMG_4909.HEIC\n"
     ]
    },
    {
     "name": "stderr",
     "output_type": "stream",
     "text": [
      "/Users/rushisy/miniforge3/envs/color_density/lib/python3.8/site-packages/sklearn/cluster/_kmeans.py:1416: FutureWarning: The default value of `n_init` will change from 10 to 'auto' in 1.4. Set the value of `n_init` explicitly to suppress the warning\n",
      "  super()._check_params_vs_input(X, default_n_init=10)\n"
     ]
    },
    {
     "name": "stdout",
     "output_type": "stream",
     "text": [
      "IMG_4909.HEIC - Top 3 colors (RGB): [[199 190 175]\n",
      " [ 44  43  49]\n",
      " [153 145 134]]\n",
      "Processing file: /Users/rushisy/Projects/color_density/data/russian/IMG_4908.HEIC\n"
     ]
    },
    {
     "name": "stderr",
     "output_type": "stream",
     "text": [
      "/Users/rushisy/miniforge3/envs/color_density/lib/python3.8/site-packages/sklearn/cluster/_kmeans.py:1416: FutureWarning: The default value of `n_init` will change from 10 to 'auto' in 1.4. Set the value of `n_init` explicitly to suppress the warning\n",
      "  super()._check_params_vs_input(X, default_n_init=10)\n"
     ]
    },
    {
     "name": "stdout",
     "output_type": "stream",
     "text": [
      "IMG_4908.HEIC - Top 3 colors (RGB): [[216 209 192]\n",
      " [ 76  67  66]\n",
      " [186 166 154]]\n",
      "Processing file: /Users/rushisy/Projects/color_density/data/russian/IMG_4898.HEIC\n"
     ]
    },
    {
     "name": "stderr",
     "output_type": "stream",
     "text": [
      "/Users/rushisy/miniforge3/envs/color_density/lib/python3.8/site-packages/sklearn/cluster/_kmeans.py:1416: FutureWarning: The default value of `n_init` will change from 10 to 'auto' in 1.4. Set the value of `n_init` explicitly to suppress the warning\n",
      "  super()._check_params_vs_input(X, default_n_init=10)\n"
     ]
    },
    {
     "name": "stdout",
     "output_type": "stream",
     "text": [
      "IMG_4898.HEIC - Top 3 colors (RGB): [[144 186 173]\n",
      " [ 49  54  55]\n",
      " [133 129 104]]\n",
      "Processing file: /Users/rushisy/Projects/color_density/data/russian/IMG_4904.HEIC\n"
     ]
    },
    {
     "name": "stderr",
     "output_type": "stream",
     "text": [
      "/Users/rushisy/miniforge3/envs/color_density/lib/python3.8/site-packages/sklearn/cluster/_kmeans.py:1416: FutureWarning: The default value of `n_init` will change from 10 to 'auto' in 1.4. Set the value of `n_init` explicitly to suppress the warning\n",
      "  super()._check_params_vs_input(X, default_n_init=10)\n"
     ]
    },
    {
     "name": "stdout",
     "output_type": "stream",
     "text": [
      "IMG_4904.HEIC - Top 3 colors (RGB): [[150 136 125]\n",
      " [241 173  88]\n",
      " [ 78  64  48]]\n",
      "Processing file: /Users/rushisy/Projects/color_density/data/russian/IMG_4912.HEIC\n"
     ]
    },
    {
     "name": "stderr",
     "output_type": "stream",
     "text": [
      "/Users/rushisy/miniforge3/envs/color_density/lib/python3.8/site-packages/sklearn/cluster/_kmeans.py:1416: FutureWarning: The default value of `n_init` will change from 10 to 'auto' in 1.4. Set the value of `n_init` explicitly to suppress the warning\n",
      "  super()._check_params_vs_input(X, default_n_init=10)\n"
     ]
    },
    {
     "name": "stdout",
     "output_type": "stream",
     "text": [
      "IMG_4912.HEIC - Top 3 colors (RGB): [[203 184 133]\n",
      " [ 74  73  73]\n",
      " [237 227 206]]\n",
      "Processing genre: teaching\n",
      "Processing file: /Users/rushisy/Projects/color_density/data/teaching/IMG_4946.HEIC\n"
     ]
    },
    {
     "name": "stderr",
     "output_type": "stream",
     "text": [
      "/Users/rushisy/miniforge3/envs/color_density/lib/python3.8/site-packages/sklearn/cluster/_kmeans.py:1416: FutureWarning: The default value of `n_init` will change from 10 to 'auto' in 1.4. Set the value of `n_init` explicitly to suppress the warning\n",
      "  super()._check_params_vs_input(X, default_n_init=10)\n"
     ]
    },
    {
     "name": "stdout",
     "output_type": "stream",
     "text": [
      "IMG_4946.HEIC - Top 3 colors (RGB): [[ 38  30  28]\n",
      " [220 148 122]\n",
      " [112 103  96]]\n",
      "Processing file: /Users/rushisy/Projects/color_density/data/teaching/IMG_4931.HEIC\n"
     ]
    },
    {
     "name": "stderr",
     "output_type": "stream",
     "text": [
      "/Users/rushisy/miniforge3/envs/color_density/lib/python3.8/site-packages/sklearn/cluster/_kmeans.py:1416: FutureWarning: The default value of `n_init` will change from 10 to 'auto' in 1.4. Set the value of `n_init` explicitly to suppress the warning\n",
      "  super()._check_params_vs_input(X, default_n_init=10)\n"
     ]
    },
    {
     "name": "stdout",
     "output_type": "stream",
     "text": [
      "IMG_4931.HEIC - Top 3 colors (RGB): [[122 179 198]\n",
      " [ 56  64  68]\n",
      " [213 111  82]]\n",
      "Processing file: /Users/rushisy/Projects/color_density/data/teaching/IMG_4927.HEIC\n"
     ]
    },
    {
     "name": "stderr",
     "output_type": "stream",
     "text": [
      "/Users/rushisy/miniforge3/envs/color_density/lib/python3.8/site-packages/sklearn/cluster/_kmeans.py:1416: FutureWarning: The default value of `n_init` will change from 10 to 'auto' in 1.4. Set the value of `n_init` explicitly to suppress the warning\n",
      "  super()._check_params_vs_input(X, default_n_init=10)\n"
     ]
    },
    {
     "name": "stdout",
     "output_type": "stream",
     "text": [
      "IMG_4927.HEIC - Top 3 colors (RGB): [[107 101 106]\n",
      " [210 192 167]\n",
      " [ 38  37  40]]\n",
      "Processing file: /Users/rushisy/Projects/color_density/data/teaching/IMG_4926.HEIC\n"
     ]
    },
    {
     "name": "stderr",
     "output_type": "stream",
     "text": [
      "/Users/rushisy/miniforge3/envs/color_density/lib/python3.8/site-packages/sklearn/cluster/_kmeans.py:1416: FutureWarning: The default value of `n_init` will change from 10 to 'auto' in 1.4. Set the value of `n_init` explicitly to suppress the warning\n",
      "  super()._check_params_vs_input(X, default_n_init=10)\n"
     ]
    },
    {
     "name": "stdout",
     "output_type": "stream",
     "text": [
      "IMG_4926.HEIC - Top 3 colors (RGB): [[197 161 146]\n",
      " [ 34  42  54]\n",
      " [124 118 115]]\n",
      "Processing file: /Users/rushisy/Projects/color_density/data/teaching/IMG_4930.HEIC\n"
     ]
    },
    {
     "name": "stderr",
     "output_type": "stream",
     "text": [
      "/Users/rushisy/miniforge3/envs/color_density/lib/python3.8/site-packages/sklearn/cluster/_kmeans.py:1416: FutureWarning: The default value of `n_init` will change from 10 to 'auto' in 1.4. Set the value of `n_init` explicitly to suppress the warning\n",
      "  super()._check_params_vs_input(X, default_n_init=10)\n"
     ]
    },
    {
     "name": "stdout",
     "output_type": "stream",
     "text": [
      "IMG_4930.HEIC - Top 3 colors (RGB): [[132 102  94]\n",
      " [ 45  37  44]\n",
      " [220 127 125]]\n",
      "Processing file: /Users/rushisy/Projects/color_density/data/teaching/IMG_4947.HEIC\n"
     ]
    },
    {
     "name": "stderr",
     "output_type": "stream",
     "text": [
      "/Users/rushisy/miniforge3/envs/color_density/lib/python3.8/site-packages/sklearn/cluster/_kmeans.py:1416: FutureWarning: The default value of `n_init` will change from 10 to 'auto' in 1.4. Set the value of `n_init` explicitly to suppress the warning\n",
      "  super()._check_params_vs_input(X, default_n_init=10)\n"
     ]
    },
    {
     "name": "stdout",
     "output_type": "stream",
     "text": [
      "IMG_4947.HEIC - Top 3 colors (RGB): [[150 139 129]\n",
      " [199 191 179]\n",
      " [ 37  39  46]]\n",
      "Processing file: /Users/rushisy/Projects/color_density/data/teaching/IMG_4937.HEIC\n"
     ]
    },
    {
     "name": "stderr",
     "output_type": "stream",
     "text": [
      "/Users/rushisy/miniforge3/envs/color_density/lib/python3.8/site-packages/sklearn/cluster/_kmeans.py:1416: FutureWarning: The default value of `n_init` will change from 10 to 'auto' in 1.4. Set the value of `n_init` explicitly to suppress the warning\n",
      "  super()._check_params_vs_input(X, default_n_init=10)\n"
     ]
    },
    {
     "name": "stdout",
     "output_type": "stream",
     "text": [
      "IMG_4937.HEIC - Top 3 colors (RGB): [[195 192 138]\n",
      " [ 50  45  39]\n",
      " [149 148 117]]\n",
      "Processing file: /Users/rushisy/Projects/color_density/data/teaching/IMG_4940.HEIC\n"
     ]
    },
    {
     "name": "stderr",
     "output_type": "stream",
     "text": [
      "/Users/rushisy/miniforge3/envs/color_density/lib/python3.8/site-packages/sklearn/cluster/_kmeans.py:1416: FutureWarning: The default value of `n_init` will change from 10 to 'auto' in 1.4. Set the value of `n_init` explicitly to suppress the warning\n",
      "  super()._check_params_vs_input(X, default_n_init=10)\n"
     ]
    },
    {
     "name": "stdout",
     "output_type": "stream",
     "text": [
      "IMG_4940.HEIC - Top 3 colors (RGB): [[ 55  48  40]\n",
      " [182 177 170]\n",
      " [135 123 111]]\n",
      "Processing file: /Users/rushisy/Projects/color_density/data/teaching/IMG_4941.HEIC\n"
     ]
    },
    {
     "name": "stderr",
     "output_type": "stream",
     "text": [
      "/Users/rushisy/miniforge3/envs/color_density/lib/python3.8/site-packages/sklearn/cluster/_kmeans.py:1416: FutureWarning: The default value of `n_init` will change from 10 to 'auto' in 1.4. Set the value of `n_init` explicitly to suppress the warning\n",
      "  super()._check_params_vs_input(X, default_n_init=10)\n"
     ]
    },
    {
     "name": "stdout",
     "output_type": "stream",
     "text": [
      "IMG_4941.HEIC - Top 3 colors (RGB): [[183 148 143]\n",
      " [ 45  47  50]\n",
      " [120  94  94]]\n",
      "Processing file: /Users/rushisy/Projects/color_density/data/teaching/IMG_4936.HEIC\n"
     ]
    },
    {
     "name": "stderr",
     "output_type": "stream",
     "text": [
      "/Users/rushisy/miniforge3/envs/color_density/lib/python3.8/site-packages/sklearn/cluster/_kmeans.py:1416: FutureWarning: The default value of `n_init` will change from 10 to 'auto' in 1.4. Set the value of `n_init` explicitly to suppress the warning\n",
      "  super()._check_params_vs_input(X, default_n_init=10)\n"
     ]
    },
    {
     "name": "stdout",
     "output_type": "stream",
     "text": [
      "IMG_4936.HEIC - Top 3 colors (RGB): [[176 194 184]\n",
      " [ 39  35  34]\n",
      " [139 139 128]]\n",
      "Processing file: /Users/rushisy/Projects/color_density/data/teaching/IMG_4923.HEIC\n"
     ]
    },
    {
     "name": "stderr",
     "output_type": "stream",
     "text": [
      "/Users/rushisy/miniforge3/envs/color_density/lib/python3.8/site-packages/sklearn/cluster/_kmeans.py:1416: FutureWarning: The default value of `n_init` will change from 10 to 'auto' in 1.4. Set the value of `n_init` explicitly to suppress the warning\n",
      "  super()._check_params_vs_input(X, default_n_init=10)\n"
     ]
    },
    {
     "name": "stdout",
     "output_type": "stream",
     "text": [
      "IMG_4923.HEIC - Top 3 colors (RGB): [[ 44  42  49]\n",
      " [214 177 129]\n",
      " [122 112 115]]\n",
      "Processing file: /Users/rushisy/Projects/color_density/data/teaching/IMG_4935.HEIC\n"
     ]
    },
    {
     "name": "stderr",
     "output_type": "stream",
     "text": [
      "/Users/rushisy/miniforge3/envs/color_density/lib/python3.8/site-packages/sklearn/cluster/_kmeans.py:1416: FutureWarning: The default value of `n_init` will change from 10 to 'auto' in 1.4. Set the value of `n_init` explicitly to suppress the warning\n",
      "  super()._check_params_vs_input(X, default_n_init=10)\n"
     ]
    },
    {
     "name": "stdout",
     "output_type": "stream",
     "text": [
      "IMG_4935.HEIC - Top 3 colors (RGB): [[119 142 119]\n",
      " [ 30  35  39]\n",
      " [176 205 159]]\n",
      "Processing file: /Users/rushisy/Projects/color_density/data/teaching/IMG_4939.HEIC\n"
     ]
    },
    {
     "name": "stderr",
     "output_type": "stream",
     "text": [
      "/Users/rushisy/miniforge3/envs/color_density/lib/python3.8/site-packages/sklearn/cluster/_kmeans.py:1416: FutureWarning: The default value of `n_init` will change from 10 to 'auto' in 1.4. Set the value of `n_init` explicitly to suppress the warning\n",
      "  super()._check_params_vs_input(X, default_n_init=10)\n"
     ]
    },
    {
     "name": "stdout",
     "output_type": "stream",
     "text": [
      "IMG_4939.HEIC - Top 3 colors (RGB): [[ 48  47  53]\n",
      " [221 211 198]\n",
      " [128 118 117]]\n",
      "Processing file: /Users/rushisy/Projects/color_density/data/teaching/IMG_4942.HEIC\n"
     ]
    },
    {
     "name": "stderr",
     "output_type": "stream",
     "text": [
      "/Users/rushisy/miniforge3/envs/color_density/lib/python3.8/site-packages/sklearn/cluster/_kmeans.py:1416: FutureWarning: The default value of `n_init` will change from 10 to 'auto' in 1.4. Set the value of `n_init` explicitly to suppress the warning\n",
      "  super()._check_params_vs_input(X, default_n_init=10)\n"
     ]
    },
    {
     "name": "stdout",
     "output_type": "stream",
     "text": [
      "IMG_4942.HEIC - Top 3 colors (RGB): [[147 138 126]\n",
      " [ 73  66  62]\n",
      " [210 178 155]]\n",
      "Processing file: /Users/rushisy/Projects/color_density/data/teaching/IMG_4943.HEIC\n"
     ]
    },
    {
     "name": "stderr",
     "output_type": "stream",
     "text": [
      "/Users/rushisy/miniforge3/envs/color_density/lib/python3.8/site-packages/sklearn/cluster/_kmeans.py:1416: FutureWarning: The default value of `n_init` will change from 10 to 'auto' in 1.4. Set the value of `n_init` explicitly to suppress the warning\n",
      "  super()._check_params_vs_input(X, default_n_init=10)\n"
     ]
    },
    {
     "name": "stdout",
     "output_type": "stream",
     "text": [
      "IMG_4943.HEIC - Top 3 colors (RGB): [[122 112 104]\n",
      " [ 35  35  39]\n",
      " [190 182 168]]\n",
      "Processing file: /Users/rushisy/Projects/color_density/data/teaching/IMG_4938.HEIC\n"
     ]
    },
    {
     "name": "stderr",
     "output_type": "stream",
     "text": [
      "/Users/rushisy/miniforge3/envs/color_density/lib/python3.8/site-packages/sklearn/cluster/_kmeans.py:1416: FutureWarning: The default value of `n_init` will change from 10 to 'auto' in 1.4. Set the value of `n_init` explicitly to suppress the warning\n",
      "  super()._check_params_vs_input(X, default_n_init=10)\n"
     ]
    },
    {
     "name": "stdout",
     "output_type": "stream",
     "text": [
      "IMG_4938.HEIC - Top 3 colors (RGB): [[235 163  89]\n",
      " [ 47  35  31]\n",
      " [135 108  91]]\n",
      "Processing file: /Users/rushisy/Projects/color_density/data/teaching/IMG_4929.HEIC\n"
     ]
    },
    {
     "name": "stderr",
     "output_type": "stream",
     "text": [
      "/Users/rushisy/miniforge3/envs/color_density/lib/python3.8/site-packages/sklearn/cluster/_kmeans.py:1416: FutureWarning: The default value of `n_init` will change from 10 to 'auto' in 1.4. Set the value of `n_init` explicitly to suppress the warning\n",
      "  super()._check_params_vs_input(X, default_n_init=10)\n"
     ]
    },
    {
     "name": "stdout",
     "output_type": "stream",
     "text": [
      "IMG_4929.HEIC - Top 3 colors (RGB): [[131 128 117]\n",
      " [ 53  42  42]\n",
      " [213 171 139]]\n",
      "Processing file: /Users/rushisy/Projects/color_density/data/teaching/IMG_4944.HEIC\n"
     ]
    },
    {
     "name": "stderr",
     "output_type": "stream",
     "text": [
      "/Users/rushisy/miniforge3/envs/color_density/lib/python3.8/site-packages/sklearn/cluster/_kmeans.py:1416: FutureWarning: The default value of `n_init` will change from 10 to 'auto' in 1.4. Set the value of `n_init` explicitly to suppress the warning\n",
      "  super()._check_params_vs_input(X, default_n_init=10)\n"
     ]
    },
    {
     "name": "stdout",
     "output_type": "stream",
     "text": [
      "IMG_4944.HEIC - Top 3 colors (RGB): [[196 187 174]\n",
      " [ 30  30  34]\n",
      " [108  96  87]]\n",
      "Processing file: /Users/rushisy/Projects/color_density/data/teaching/IMG_4925.HEIC\n"
     ]
    },
    {
     "name": "stderr",
     "output_type": "stream",
     "text": [
      "/Users/rushisy/miniforge3/envs/color_density/lib/python3.8/site-packages/sklearn/cluster/_kmeans.py:1416: FutureWarning: The default value of `n_init` will change from 10 to 'auto' in 1.4. Set the value of `n_init` explicitly to suppress the warning\n",
      "  super()._check_params_vs_input(X, default_n_init=10)\n"
     ]
    },
    {
     "name": "stdout",
     "output_type": "stream",
     "text": [
      "IMG_4925.HEIC - Top 3 colors (RGB): [[191 165 139]\n",
      " [ 43  44  49]\n",
      " [109 109 107]]\n",
      "Processing file: /Users/rushisy/Projects/color_density/data/teaching/IMG_4933.HEIC\n"
     ]
    },
    {
     "name": "stderr",
     "output_type": "stream",
     "text": [
      "/Users/rushisy/miniforge3/envs/color_density/lib/python3.8/site-packages/sklearn/cluster/_kmeans.py:1416: FutureWarning: The default value of `n_init` will change from 10 to 'auto' in 1.4. Set the value of `n_init` explicitly to suppress the warning\n",
      "  super()._check_params_vs_input(X, default_n_init=10)\n"
     ]
    },
    {
     "name": "stdout",
     "output_type": "stream",
     "text": [
      "IMG_4933.HEIC - Top 3 colors (RGB): [[201 185 164]\n",
      " [ 30  32  40]\n",
      " [131 121 116]]\n",
      "Processing file: /Users/rushisy/Projects/color_density/data/teaching/IMG_4948.HEIC\n"
     ]
    },
    {
     "name": "stderr",
     "output_type": "stream",
     "text": [
      "/Users/rushisy/miniforge3/envs/color_density/lib/python3.8/site-packages/sklearn/cluster/_kmeans.py:1416: FutureWarning: The default value of `n_init` will change from 10 to 'auto' in 1.4. Set the value of `n_init` explicitly to suppress the warning\n",
      "  super()._check_params_vs_input(X, default_n_init=10)\n"
     ]
    },
    {
     "name": "stdout",
     "output_type": "stream",
     "text": [
      "IMG_4948.HEIC - Top 3 colors (RGB): [[194 182 165]\n",
      " [ 41  43  51]\n",
      " [143 135 124]]\n",
      "Processing file: /Users/rushisy/Projects/color_density/data/teaching/IMG_4932.HEIC\n"
     ]
    },
    {
     "name": "stderr",
     "output_type": "stream",
     "text": [
      "/Users/rushisy/miniforge3/envs/color_density/lib/python3.8/site-packages/sklearn/cluster/_kmeans.py:1416: FutureWarning: The default value of `n_init` will change from 10 to 'auto' in 1.4. Set the value of `n_init` explicitly to suppress the warning\n",
      "  super()._check_params_vs_input(X, default_n_init=10)\n"
     ]
    },
    {
     "name": "stdout",
     "output_type": "stream",
     "text": [
      "IMG_4932.HEIC - Top 3 colors (RGB): [[118 106 101]\n",
      " [162 193 176]\n",
      " [ 31  40  49]]\n",
      "Processing file: /Users/rushisy/Projects/color_density/data/teaching/IMG_4924.HEIC\n"
     ]
    },
    {
     "name": "stderr",
     "output_type": "stream",
     "text": [
      "/Users/rushisy/miniforge3/envs/color_density/lib/python3.8/site-packages/sklearn/cluster/_kmeans.py:1416: FutureWarning: The default value of `n_init` will change from 10 to 'auto' in 1.4. Set the value of `n_init` explicitly to suppress the warning\n",
      "  super()._check_params_vs_input(X, default_n_init=10)\n"
     ]
    },
    {
     "name": "stdout",
     "output_type": "stream",
     "text": [
      "IMG_4924.HEIC - Top 3 colors (RGB): [[222 211 197]\n",
      " [ 53  46  48]\n",
      " [164 121 107]]\n",
      "Processing file: /Users/rushisy/Projects/color_density/data/teaching/IMG_4945.HEIC\n"
     ]
    },
    {
     "name": "stderr",
     "output_type": "stream",
     "text": [
      "/Users/rushisy/miniforge3/envs/color_density/lib/python3.8/site-packages/sklearn/cluster/_kmeans.py:1416: FutureWarning: The default value of `n_init` will change from 10 to 'auto' in 1.4. Set the value of `n_init` explicitly to suppress the warning\n",
      "  super()._check_params_vs_input(X, default_n_init=10)\n"
     ]
    },
    {
     "name": "stdout",
     "output_type": "stream",
     "text": [
      "IMG_4945.HEIC - Top 3 colors (RGB): [[140  98  75]\n",
      " [ 39  30  29]\n",
      " [165 168 156]]\n",
      "Processing file: /Users/rushisy/Projects/color_density/data/teaching/IMG_4928.HEIC\n",
      "IMG_4928.HEIC - Top 3 colors (RGB): [[157 159 155]\n",
      " [ 59  41  22]\n",
      " [212 146  76]]\n"
     ]
    },
    {
     "name": "stderr",
     "output_type": "stream",
     "text": [
      "/Users/rushisy/miniforge3/envs/color_density/lib/python3.8/site-packages/sklearn/cluster/_kmeans.py:1416: FutureWarning: The default value of `n_init` will change from 10 to 'auto' in 1.4. Set the value of `n_init` explicitly to suppress the warning\n",
      "  super()._check_params_vs_input(X, default_n_init=10)\n",
      "/Users/rushisy/miniforge3/envs/color_density/lib/python3.8/site-packages/sklearn/cluster/_kmeans.py:1416: FutureWarning: The default value of `n_init` will change from 10 to 'auto' in 1.4. Set the value of `n_init` explicitly to suppress the warning\n",
      "  super()._check_params_vs_input(X, default_n_init=10)\n"
     ]
    },
    {
     "data": {
      "image/png": "[encoded data removed]",
      "text/plain": [
       "<Figure size 600x600 with 1 Axes>"
      ]
     },
     "metadata": {},
     "output_type": "display_data"
    },
    {
     "name": "stderr",
     "output_type": "stream",
     "text": [
      "/Users/rushisy/miniforge3/envs/color_density/lib/python3.8/site-packages/sklearn/cluster/_kmeans.py:1416: FutureWarning: The default value of `n_init` will change from 10 to 'auto' in 1.4. Set the value of `n_init` explicitly to suppress the warning\n",
      "  super()._check_params_vs_input(X, default_n_init=10)\n"
     ]
    },
    {
     "data": {
      "image/png": "[encoded data removed]",
      "text/plain": [
       "<Figure size 600x600 with 1 Axes>"
      ]
     },
     "metadata": {},
     "output_type": "display_data"
    },
    {
     "name": "stderr",
     "output_type": "stream",
     "text": [
      "/Users/rushisy/miniforge3/envs/color_density/lib/python3.8/site-packages/sklearn/cluster/_kmeans.py:1416: FutureWarning: The default value of `n_init` will change from 10 to 'auto' in 1.4. Set the value of `n_init` explicitly to suppress the warning\n",
      "  super()._check_params_vs_input(X, default_n_init=10)\n"
     ]
    },
    {
     "data": {
      "image/png": "[encoded data removed]",
      "text/plain": [
       "<Figure size 600x600 with 1 Axes>"
      ]
     },
     "metadata": {},
     "output_type": "display_data"
    }
   ],
   "source": [
    "import os\n",
    "from wand.image import Image as WandImage\n",
    "from PIL import Image\n",
    "import numpy as np\n",
    "from sklearn.cluster import KMeans\n",
    "import matplotlib.pyplot as plt\n",
    "import io\n",
    "\n",
    "# Cconvert HEIC images from my iPhone to PNG files\n",
    "def heic_to_image(heic_path):\n",
    "    try:\n",
    "        with WandImage(filename=heic_path) as img:\n",
    "            img.format = 'png'  # Convert to PNG\n",
    "            img_blob = img.make_blob()  # Get the image as a blob\n",
    "            image = Image.open(io.BytesIO(img_blob))  # Load blob into pillow\n",
    "        return image\n",
    "    except Exception as e:\n",
    "        print(f\"Error converting {heic_path}: {e}\")\n",
    "        return None\n",
    "\n",
    "# Use kmeans to extract top colors\n",
    "def extract_top_colors(image, num_colors=3):\n",
    "    image = image.convert(\"RGB\")\n",
    "    image = image.resize((100, 100))  # Resize for faster processing -> definetly lost in translation\n",
    "    pixels = np.array(image).reshape(-1, 3)\n",
    "    kmeans = KMeans(n_clusters=num_colors)\n",
    "    kmeans.fit(pixels)\n",
    "    colors = kmeans.cluster_centers_.astype(int)\n",
    "    return colors\n",
    "\n",
    "# process by genre\n",
    "def process_directory(directory, genre):\n",
    "    genre_colors = []  # list of all books in each genre\n",
    "    for filename in os.listdir(directory):\n",
    "        if filename.lower().endswith(\".heic\"):  # heic vs. HEIC (took way too long for me to realize this)\n",
    "            file_path = os.path.join(directory, filename)\n",
    "            print(f\"Processing file: {os.path.abspath(file_path)}\")  # debugging test\n",
    "            image = heic_to_image(file_path)\n",
    "\n",
    "            if image is None:\n",
    "                continue  # fail safe\n",
    "\n",
    "            top_colors = extract_top_colors(image)\n",
    "            genre_colors.append(top_colors)\n",
    "            print(f\"{filename} - Top 3 colors (RGB): {top_colors}\")\n",
    "\n",
    "    return genre_colors\n",
    "\n",
    "# helper function for pie chart\n",
    "def cluster_colors(all_colors, num_clusters=10):\n",
    "    all_colors = np.array(all_colors)\n",
    "    kmeans = KMeans(n_clusters=num_clusters)\n",
    "    kmeans.fit(all_colors)\n",
    "    clustered_colors = kmeans.cluster_centers_.astype(int)\n",
    "    return clustered_colors, kmeans.labels_\n",
    "\n",
    "# pie chart by similar colors (in order)\n",
    "def create_genre_pie_chart(genre, colors_list, total_books, num_clusters=10):\n",
    "    # Flatten the list of color arrays\n",
    "    flat_colors = [color for colors in colors_list for color in colors]\n",
    "    \n",
    "    # cluster\n",
    "    clustered_colors, labels = cluster_colors(flat_colors, num_clusters)\n",
    "    unique_labels, counts = np.unique(labels, return_counts=True)\n",
    "\n",
    "    # clockwise ordering\n",
    "    sorted_indices = np.argsort(counts)[::-1]  # Sort in descending order\n",
    "    sorted_counts = counts[sorted_indices]\n",
    "    sorted_colors = clustered_colors[unique_labels][sorted_indices]\n",
    "\n",
    "    sizes = sorted_counts / (total_books * 3)  # normalize\n",
    "    color_patches = [tuple(color / 255) for color in sorted_colors]  # matplotlib reader\n",
    "\n",
    "    # print pie chart\n",
    "    plt.figure(figsize=(6, 6))\n",
    "    plt.pie(sizes, colors=color_patches, startangle=90)\n",
    "    plt.title(f\"Top Colors for {genre} Genre\")\n",
    "    plt.axis('equal')\n",
    "    plt.show()\n",
    "\n",
    "# main with each genre\n",
    "def main():\n",
    "    genres = {\n",
    "        'afropes': 'data/afropes',\n",
    "        'russian': 'data/russian',\n",
    "        'teaching': 'data/teaching'\n",
    "    }\n",
    "\n",
    "    total_books = 25  # first 25 books in each directory for run time considerations -> literally 3 mins for each genre. I need to shrink this in the future\n",
    "    all_genres_colors = {} \n",
    "\n",
    "    for genre, path in genres.items():\n",
    "        print(f\"Processing genre: {genre}\")\n",
    "        if not os.path.exists(path):\n",
    "            print(f\"Directory {path} does not exist!\")  # ensure filepath exists\n",
    "            continue\n",
    "        genre_colors = process_directory(path, genre)\n",
    "        all_genres_colors[genre] = genre_colors\n",
    "\n",
    "    # make chart for each genre\n",
    "    for genre, colors_list in all_genres_colors.items():\n",
    "        if not colors_list:\n",
    "            print(f\"No images processed for {genre} genre.\")\n",
    "            continue\n",
    "        create_genre_pie_chart(genre, colors_list, total_books)\n",
    "\n",
    "if __name__ == \"__main__\":\n",
    "    main()\n"
   ]
  }
 ],
 "metadata": {
  "kernelspec": {
   "display_name": "color_density",
   "language": "python",
   "name": "python3"
  },
  "language_info": {
   "codemirror_mode": {
    "name": "ipython",
    "version": 3
   },
   "file_extension": ".py",
   "mimetype": "text/x-python",
   "name": "python",
   "nbconvert_exporter": "python",
   "pygments_lexer": "ipython3",
   "version": "3.8.20"
  }
 },
 "nbformat": 4,
 "nbformat_minor": 2
}
