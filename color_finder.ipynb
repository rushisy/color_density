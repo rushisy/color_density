{
 "cells": [
  {
   "cell_type": "code",
   "execution_count": 18,
   "metadata": {},
   "outputs": [
    {
     "name": "stdout",
     "output_type": "stream",
     "text": [
      "Processing genre: afropes\n",
      "Processing file: /Users/rushisy/Projects/color_density/data/afropes/IMG_4878.HEIC\n"
     ]
    },
    {
     "name": "stderr",
     "output_type": "stream",
     "text": [
      "/Users/rushisy/miniforge3/envs/color_density/lib/python3.8/site-packages/sklearn/cluster/_kmeans.py:1416: FutureWarning: The default value of `n_init` will change from 10 to 'auto' in 1.4. Set the value of `n_init` explicitly to suppress the warning\n",
      "  super()._check_params_vs_input(X, default_n_init=10)\n"
     ]
    },
    {
     "name": "stdout",
     "output_type": "stream",
     "text": [
      "IMG_4878.HEIC - Top 3 colors (RGB): [[216 195 167]\n",
      " [ 55  57  56]\n",
      " [151 127  97]]\n",
      "Processing file: /Users/rushisy/Projects/color_density/data/afropes/IMG_4881.HEIC\n"
     ]
    },
    {
     "name": "stderr",
     "output_type": "stream",
     "text": [
      "/Users/rushisy/miniforge3/envs/color_density/lib/python3.8/site-packages/sklearn/cluster/_kmeans.py:1416: FutureWarning: The default value of `n_init` will change from 10 to 'auto' in 1.4. Set the value of `n_init` explicitly to suppress the warning\n",
      "  super()._check_params_vs_input(X, default_n_init=10)\n"
     ]
    },
    {
     "name": "stdout",
     "output_type": "stream",
     "text": [
      "IMG_4881.HEIC - Top 3 colors (RGB): [[118 115 110]\n",
      " [204 200 187]\n",
      " [ 76  74  71]]\n",
      "Processing file: /Users/rushisy/Projects/color_density/data/afropes/IMG_4874.HEIC\n"
     ]
    },
    {
     "name": "stderr",
     "output_type": "stream",
     "text": [
      "/Users/rushisy/miniforge3/envs/color_density/lib/python3.8/site-packages/sklearn/cluster/_kmeans.py:1416: FutureWarning: The default value of `n_init` will change from 10 to 'auto' in 1.4. Set the value of `n_init` explicitly to suppress the warning\n",
      "  super()._check_params_vs_input(X, default_n_init=10)\n"
     ]
    },
    {
     "name": "stdout",
     "output_type": "stream",
     "text": [
      "IMG_4874.HEIC - Top 3 colors (RGB): [[209 206 195]\n",
      " [139 128 121]\n",
      " [ 55  56  59]]\n",
      "Processing file: /Users/rushisy/Projects/color_density/data/afropes/IMG_4875.HEIC\n"
     ]
    },
    {
     "name": "stderr",
     "output_type": "stream",
     "text": [
      "/Users/rushisy/miniforge3/envs/color_density/lib/python3.8/site-packages/sklearn/cluster/_kmeans.py:1416: FutureWarning: The default value of `n_init` will change from 10 to 'auto' in 1.4. Set the value of `n_init` explicitly to suppress the warning\n",
      "  super()._check_params_vs_input(X, default_n_init=10)\n"
     ]
    },
    {
     "name": "stdout",
     "output_type": "stream",
     "text": [
      "IMG_4875.HEIC - Top 3 colors (RGB): [[102 101  97]\n",
      " [180 169 143]\n",
      " [ 34  30  30]]\n",
      "Processing file: /Users/rushisy/Projects/color_density/data/afropes/IMG_4880.HEIC\n"
     ]
    },
    {
     "name": "stderr",
     "output_type": "stream",
     "text": [
      "/Users/rushisy/miniforge3/envs/color_density/lib/python3.8/site-packages/sklearn/cluster/_kmeans.py:1416: FutureWarning: The default value of `n_init` will change from 10 to 'auto' in 1.4. Set the value of `n_init` explicitly to suppress the warning\n",
      "  super()._check_params_vs_input(X, default_n_init=10)\n"
     ]
    },
    {
     "name": "stdout",
     "output_type": "stream",
     "text": [
      "IMG_4880.HEIC - Top 3 colors (RGB): [[145 136 124]\n",
      " [ 73  67  65]\n",
      " [218 210 196]]\n",
      "Processing file: /Users/rushisy/Projects/color_density/data/afropes/IMG_4879.HEIC\n"
     ]
    },
    {
     "name": "stderr",
     "output_type": "stream",
     "text": [
      "/Users/rushisy/miniforge3/envs/color_density/lib/python3.8/site-packages/sklearn/cluster/_kmeans.py:1416: FutureWarning: The default value of `n_init` will change from 10 to 'auto' in 1.4. Set the value of `n_init` explicitly to suppress the warning\n",
      "  super()._check_params_vs_input(X, default_n_init=10)\n"
     ]
    },
    {
     "name": "stdout",
     "output_type": "stream",
     "text": [
      "IMG_4879.HEIC - Top 3 colors (RGB): [[124 124 111]\n",
      " [182 166 149]\n",
      " [ 80  82  71]]\n",
      "Processing file: /Users/rushisy/Projects/color_density/data/afropes/IMG_4872.HEIC\n"
     ]
    },
    {
     "name": "stderr",
     "output_type": "stream",
     "text": [
      "/Users/rushisy/miniforge3/envs/color_density/lib/python3.8/site-packages/sklearn/cluster/_kmeans.py:1416: FutureWarning: The default value of `n_init` will change from 10 to 'auto' in 1.4. Set the value of `n_init` explicitly to suppress the warning\n",
      "  super()._check_params_vs_input(X, default_n_init=10)\n"
     ]
    },
    {
     "name": "stdout",
     "output_type": "stream",
     "text": [
      "IMG_4872.HEIC - Top 3 colors (RGB): [[205 189 159]\n",
      " [ 62  80 129]\n",
      " [121 164 188]]\n",
      "Processing file: /Users/rushisy/Projects/color_density/data/afropes/IMG_4891.HEIC\n"
     ]
    },
    {
     "name": "stderr",
     "output_type": "stream",
     "text": [
      "/Users/rushisy/miniforge3/envs/color_density/lib/python3.8/site-packages/sklearn/cluster/_kmeans.py:1416: FutureWarning: The default value of `n_init` will change from 10 to 'auto' in 1.4. Set the value of `n_init` explicitly to suppress the warning\n",
      "  super()._check_params_vs_input(X, default_n_init=10)\n"
     ]
    },
    {
     "name": "stdout",
     "output_type": "stream",
     "text": [
      "IMG_4891.HEIC - Top 3 colors (RGB): [[176 165 139]\n",
      " [ 76  74  72]\n",
      " [116 113 106]]\n",
      "Processing file: /Users/rushisy/Projects/color_density/data/afropes/IMG_4887.HEIC\n"
     ]
    },
    {
     "name": "stderr",
     "output_type": "stream",
     "text": [
      "/Users/rushisy/miniforge3/envs/color_density/lib/python3.8/site-packages/sklearn/cluster/_kmeans.py:1416: FutureWarning: The default value of `n_init` will change from 10 to 'auto' in 1.4. Set the value of `n_init` explicitly to suppress the warning\n",
      "  super()._check_params_vs_input(X, default_n_init=10)\n"
     ]
    },
    {
     "name": "stdout",
     "output_type": "stream",
     "text": [
      "IMG_4887.HEIC - Top 3 colors (RGB): [[210 207 198]\n",
      " [163 158 150]\n",
      " [100  97  94]]\n",
      "Processing file: /Users/rushisy/Projects/color_density/data/afropes/IMG_4886.HEIC\n"
     ]
    },
    {
     "name": "stderr",
     "output_type": "stream",
     "text": [
      "/Users/rushisy/miniforge3/envs/color_density/lib/python3.8/site-packages/sklearn/cluster/_kmeans.py:1416: FutureWarning: The default value of `n_init` will change from 10 to 'auto' in 1.4. Set the value of `n_init` explicitly to suppress the warning\n",
      "  super()._check_params_vs_input(X, default_n_init=10)\n"
     ]
    },
    {
     "name": "stdout",
     "output_type": "stream",
     "text": [
      "IMG_4886.HEIC - Top 3 colors (RGB): [[205 200 190]\n",
      " [135 124 114]\n",
      " [ 75  69  65]]\n",
      "Processing file: /Users/rushisy/Projects/color_density/data/afropes/IMG_4890.HEIC\n"
     ]
    },
    {
     "name": "stderr",
     "output_type": "stream",
     "text": [
      "/Users/rushisy/miniforge3/envs/color_density/lib/python3.8/site-packages/sklearn/cluster/_kmeans.py:1416: FutureWarning: The default value of `n_init` will change from 10 to 'auto' in 1.4. Set the value of `n_init` explicitly to suppress the warning\n",
      "  super()._check_params_vs_input(X, default_n_init=10)\n"
     ]
    },
    {
     "name": "stdout",
     "output_type": "stream",
     "text": [
      "IMG_4890.HEIC - Top 3 colors (RGB): [[236 192 118]\n",
      " [ 89  69  53]\n",
      " [157 120  86]]\n",
      "Processing file: /Users/rushisy/Projects/color_density/data/afropes/IMG_4873.HEIC\n"
     ]
    },
    {
     "name": "stderr",
     "output_type": "stream",
     "text": [
      "/Users/rushisy/miniforge3/envs/color_density/lib/python3.8/site-packages/sklearn/cluster/_kmeans.py:1416: FutureWarning: The default value of `n_init` will change from 10 to 'auto' in 1.4. Set the value of `n_init` explicitly to suppress the warning\n",
      "  super()._check_params_vs_input(X, default_n_init=10)\n"
     ]
    },
    {
     "name": "stdout",
     "output_type": "stream",
     "text": [
      "IMG_4873.HEIC - Top 3 colors (RGB): [[134 132 123]\n",
      " [193 180 161]\n",
      " [ 87  71  72]]\n",
      "Processing file: /Users/rushisy/Projects/color_density/data/afropes/IMG_4889.HEIC\n"
     ]
    },
    {
     "name": "stderr",
     "output_type": "stream",
     "text": [
      "/Users/rushisy/miniforge3/envs/color_density/lib/python3.8/site-packages/sklearn/cluster/_kmeans.py:1416: FutureWarning: The default value of `n_init` will change from 10 to 'auto' in 1.4. Set the value of `n_init` explicitly to suppress the warning\n",
      "  super()._check_params_vs_input(X, default_n_init=10)\n"
     ]
    },
    {
     "name": "stdout",
     "output_type": "stream",
     "text": [
      "IMG_4889.HEIC - Top 3 colors (RGB): [[191 175 169]\n",
      " [ 88  81  80]\n",
      " [200  74  81]]\n",
      "Processing file: /Users/rushisy/Projects/color_density/data/afropes/IMG_4885.HEIC\n"
     ]
    },
    {
     "name": "stderr",
     "output_type": "stream",
     "text": [
      "/Users/rushisy/miniforge3/envs/color_density/lib/python3.8/site-packages/sklearn/cluster/_kmeans.py:1416: FutureWarning: The default value of `n_init` will change from 10 to 'auto' in 1.4. Set the value of `n_init` explicitly to suppress the warning\n",
      "  super()._check_params_vs_input(X, default_n_init=10)\n"
     ]
    },
    {
     "name": "stdout",
     "output_type": "stream",
     "text": [
      "IMG_4885.HEIC - Top 3 colors (RGB): [[ 81  82  79]\n",
      " [130 175 198]\n",
      " [116 119 117]]\n",
      "Processing file: /Users/rushisy/Projects/color_density/data/afropes/IMG_4893.HEIC\n"
     ]
    },
    {
     "name": "stderr",
     "output_type": "stream",
     "text": [
      "/Users/rushisy/miniforge3/envs/color_density/lib/python3.8/site-packages/sklearn/cluster/_kmeans.py:1416: FutureWarning: The default value of `n_init` will change from 10 to 'auto' in 1.4. Set the value of `n_init` explicitly to suppress the warning\n",
      "  super()._check_params_vs_input(X, default_n_init=10)\n"
     ]
    },
    {
     "name": "stdout",
     "output_type": "stream",
     "text": [
      "IMG_4893.HEIC - Top 3 colors (RGB): [[129 116 106]\n",
      " [ 92  75  69]\n",
      " [205 198 184]]\n",
      "Processing file: /Users/rushisy/Projects/color_density/data/afropes/IMG_4892.HEIC\n"
     ]
    },
    {
     "name": "stderr",
     "output_type": "stream",
     "text": [
      "/Users/rushisy/miniforge3/envs/color_density/lib/python3.8/site-packages/sklearn/cluster/_kmeans.py:1416: FutureWarning: The default value of `n_init` will change from 10 to 'auto' in 1.4. Set the value of `n_init` explicitly to suppress the warning\n",
      "  super()._check_params_vs_input(X, default_n_init=10)\n"
     ]
    },
    {
     "name": "stdout",
     "output_type": "stream",
     "text": [
      "IMG_4892.HEIC - Top 3 colors (RGB): [[138 111 102]\n",
      " [ 83  66  59]\n",
      " [195 176 144]]\n",
      "Processing file: /Users/rushisy/Projects/color_density/data/afropes/IMG_4884.HEIC\n"
     ]
    },
    {
     "name": "stderr",
     "output_type": "stream",
     "text": [
      "/Users/rushisy/miniforge3/envs/color_density/lib/python3.8/site-packages/sklearn/cluster/_kmeans.py:1416: FutureWarning: The default value of `n_init` will change from 10 to 'auto' in 1.4. Set the value of `n_init` explicitly to suppress the warning\n",
      "  super()._check_params_vs_input(X, default_n_init=10)\n"
     ]
    },
    {
     "name": "stdout",
     "output_type": "stream",
     "text": [
      "IMG_4884.HEIC - Top 3 colors (RGB): [[229 221 204]\n",
      " [144 120 119]\n",
      " [ 71  64  66]]\n",
      "Processing file: /Users/rushisy/Projects/color_density/data/afropes/IMG_4871.HEIC\n"
     ]
    },
    {
     "name": "stderr",
     "output_type": "stream",
     "text": [
      "/Users/rushisy/miniforge3/envs/color_density/lib/python3.8/site-packages/sklearn/cluster/_kmeans.py:1416: FutureWarning: The default value of `n_init` will change from 10 to 'auto' in 1.4. Set the value of `n_init` explicitly to suppress the warning\n",
      "  super()._check_params_vs_input(X, default_n_init=10)\n"
     ]
    },
    {
     "name": "stdout",
     "output_type": "stream",
     "text": [
      "IMG_4871.HEIC - Top 3 colors (RGB): [[121 119 113]\n",
      " [ 73  75  77]\n",
      " [181 175 155]]\n",
      "Processing file: /Users/rushisy/Projects/color_density/data/afropes/IMG_4888.HEIC\n"
     ]
    },
    {
     "name": "stderr",
     "output_type": "stream",
     "text": [
      "/Users/rushisy/miniforge3/envs/color_density/lib/python3.8/site-packages/sklearn/cluster/_kmeans.py:1416: FutureWarning: The default value of `n_init` will change from 10 to 'auto' in 1.4. Set the value of `n_init` explicitly to suppress the warning\n",
      "  super()._check_params_vs_input(X, default_n_init=10)\n"
     ]
    },
    {
     "name": "stdout",
     "output_type": "stream",
     "text": [
      "IMG_4888.HEIC - Top 3 colors (RGB): [[100  94  86]\n",
      " [194 188 172]\n",
      " [ 41 126 174]]\n",
      "Processing file: /Users/rushisy/Projects/color_density/data/afropes/IMG_4883.HEIC\n"
     ]
    },
    {
     "name": "stderr",
     "output_type": "stream",
     "text": [
      "/Users/rushisy/miniforge3/envs/color_density/lib/python3.8/site-packages/sklearn/cluster/_kmeans.py:1416: FutureWarning: The default value of `n_init` will change from 10 to 'auto' in 1.4. Set the value of `n_init` explicitly to suppress the warning\n",
      "  super()._check_params_vs_input(X, default_n_init=10)\n"
     ]
    },
    {
     "name": "stdout",
     "output_type": "stream",
     "text": [
      "IMG_4883.HEIC - Top 3 colors (RGB): [[ 66  60  65]\n",
      " [194 184 167]\n",
      " [157 147 130]]\n",
      "Processing file: /Users/rushisy/Projects/color_density/data/afropes/IMG_4895.HEIC\n"
     ]
    },
    {
     "name": "stderr",
     "output_type": "stream",
     "text": [
      "/Users/rushisy/miniforge3/envs/color_density/lib/python3.8/site-packages/sklearn/cluster/_kmeans.py:1416: FutureWarning: The default value of `n_init` will change from 10 to 'auto' in 1.4. Set the value of `n_init` explicitly to suppress the warning\n",
      "  super()._check_params_vs_input(X, default_n_init=10)\n"
     ]
    },
    {
     "name": "stdout",
     "output_type": "stream",
     "text": [
      "IMG_4895.HEIC - Top 3 colors (RGB): [[184 182 172]\n",
      " [110 109 104]\n",
      " [ 64  62  61]]\n",
      "Processing file: /Users/rushisy/Projects/color_density/data/afropes/IMG_4876.HEIC\n"
     ]
    },
    {
     "name": "stderr",
     "output_type": "stream",
     "text": [
      "/Users/rushisy/miniforge3/envs/color_density/lib/python3.8/site-packages/sklearn/cluster/_kmeans.py:1416: FutureWarning: The default value of `n_init` will change from 10 to 'auto' in 1.4. Set the value of `n_init` explicitly to suppress the warning\n",
      "  super()._check_params_vs_input(X, default_n_init=10)\n"
     ]
    },
    {
     "name": "stdout",
     "output_type": "stream",
     "text": [
      "IMG_4876.HEIC - Top 3 colors (RGB): [[222 219 211]\n",
      " [ 97  88  82]\n",
      " [164 146 125]]\n",
      "Processing file: /Users/rushisy/Projects/color_density/data/afropes/IMG_4877.HEIC\n"
     ]
    },
    {
     "name": "stderr",
     "output_type": "stream",
     "text": [
      "/Users/rushisy/miniforge3/envs/color_density/lib/python3.8/site-packages/sklearn/cluster/_kmeans.py:1416: FutureWarning: The default value of `n_init` will change from 10 to 'auto' in 1.4. Set the value of `n_init` explicitly to suppress the warning\n",
      "  super()._check_params_vs_input(X, default_n_init=10)\n"
     ]
    },
    {
     "name": "stdout",
     "output_type": "stream",
     "text": [
      "IMG_4877.HEIC - Top 3 colors (RGB): [[164 149 140]\n",
      " [ 75  71  76]\n",
      " [217 211 196]]\n",
      "Processing file: /Users/rushisy/Projects/color_density/data/afropes/IMG_4894.HEIC\n"
     ]
    },
    {
     "name": "stderr",
     "output_type": "stream",
     "text": [
      "/Users/rushisy/miniforge3/envs/color_density/lib/python3.8/site-packages/sklearn/cluster/_kmeans.py:1416: FutureWarning: The default value of `n_init` will change from 10 to 'auto' in 1.4. Set the value of `n_init` explicitly to suppress the warning\n",
      "  super()._check_params_vs_input(X, default_n_init=10)\n"
     ]
    },
    {
     "name": "stdout",
     "output_type": "stream",
     "text": [
      "IMG_4894.HEIC - Top 3 colors (RGB): [[224 220 212]\n",
      " [ 71  67  69]\n",
      " [150 128 119]]\n",
      "Processing file: /Users/rushisy/Projects/color_density/data/afropes/IMG_4882.HEIC\n",
      "IMG_4882.HEIC - Top 3 colors (RGB): [[212 196 164]\n",
      " [ 72  62  62]\n",
      " [144 124 151]]\n"
     ]
    },
    {
     "name": "stderr",
     "output_type": "stream",
     "text": [
      "/Users/rushisy/miniforge3/envs/color_density/lib/python3.8/site-packages/sklearn/cluster/_kmeans.py:1416: FutureWarning: The default value of `n_init` will change from 10 to 'auto' in 1.4. Set the value of `n_init` explicitly to suppress the warning\n",
      "  super()._check_params_vs_input(X, default_n_init=10)\n",
      "/Users/rushisy/miniforge3/envs/color_density/lib/python3.8/site-packages/sklearn/cluster/_kmeans.py:1416: FutureWarning: The default value of `n_init` will change from 10 to 'auto' in 1.4. Set the value of `n_init` explicitly to suppress the warning\n",
      "  super()._check_params_vs_input(X, default_n_init=10)\n"
     ]
    },
    {
     "data": {
      "image/png": "[encoded data removed]",
      "text/plain": [
       "<Figure size 600x600 with 1 Axes>"
      ]
     },
     "metadata": {},
     "output_type": "display_data"
    }
   ],
   "source": [
    "import os\n",
    "from wand.image import Image as WandImage\n",
    "from PIL import Image\n",
    "import numpy as np\n",
    "from sklearn.cluster import KMeans\n",
    "import matplotlib.pyplot as plt\n",
    "import io\n",
    "\n",
    "# Function to convert HEIC images to PNG using Wand and ImageMagick\n",
    "def heic_to_image(heic_path):\n",
    "    try:\n",
    "        with WandImage(filename=heic_path) as img:\n",
    "            img.format = 'png'  # Convert to PNG\n",
    "            img_blob = img.make_blob()  # Get the image as a blob\n",
    "            image = Image.open(io.BytesIO(img_blob))  # Load blob into Pillow Image\n",
    "        return image\n",
    "    except Exception as e:\n",
    "        print(f\"Error converting {heic_path}: {e}\")\n",
    "        return None\n",
    "\n",
    "# Function to extract top colors using KMeans\n",
    "def extract_top_colors(image, num_colors=3):\n",
    "    image = image.convert(\"RGB\")\n",
    "    image = image.resize((100, 100))  # Resize for faster processing\n",
    "    pixels = np.array(image).reshape(-1, 3)\n",
    "    kmeans = KMeans(n_clusters=num_colors)\n",
    "    kmeans.fit(pixels)\n",
    "    colors = kmeans.cluster_centers_.astype(int)\n",
    "    return colors\n",
    "\n",
    "# Function to process images in a directory\n",
    "def process_directory(directory, genre):\n",
    "    genre_colors = []  # List to hold top colors for each image in this genre\n",
    "    for filename in os.listdir(directory):\n",
    "        if filename.lower().endswith(\".heic\"):  # Case-insensitive file extension check\n",
    "            file_path = os.path.join(directory, filename)\n",
    "            print(f\"Processing file: {os.path.abspath(file_path)}\")  # Print full path for debugging\n",
    "            image = heic_to_image(file_path)\n",
    "\n",
    "            if image is None:\n",
    "                continue  # Skip if conversion failed\n",
    "\n",
    "            top_colors = extract_top_colors(image)\n",
    "            genre_colors.append(top_colors)\n",
    "            print(f\"{filename} - Top 3 colors (RGB): {top_colors}\")\n",
    "\n",
    "    return genre_colors\n",
    "\n",
    "# Function to cluster similar colors together\n",
    "def cluster_colors(all_colors, num_clusters=10):\n",
    "    all_colors = np.array(all_colors)\n",
    "    kmeans = KMeans(n_clusters=num_clusters)\n",
    "    kmeans.fit(all_colors)\n",
    "    clustered_colors = kmeans.cluster_centers_.astype(int)\n",
    "    return clustered_colors, kmeans.labels_\n",
    "\n",
    "# Function to create pie charts for each genre based on clustered colors\n",
    "def create_genre_pie_chart(genre, colors_list, total_books, num_clusters=10):\n",
    "    # Flatten the list of color arrays\n",
    "    flat_colors = [color for colors in colors_list for color in colors]\n",
    "    \n",
    "    # Cluster all the colors together to group similar ones\n",
    "    clustered_colors, labels = cluster_colors(flat_colors, num_clusters)\n",
    "\n",
    "    # Calculate the sizes of the color clusters\n",
    "    unique_labels, counts = np.unique(labels, return_counts=True)\n",
    "\n",
    "    # Sort the clusters by their size (in descending order)\n",
    "    sorted_indices = np.argsort(counts)[::-1]  # Sort in descending order\n",
    "    sorted_counts = counts[sorted_indices]\n",
    "    sorted_colors = clustered_colors[unique_labels][sorted_indices]\n",
    "\n",
    "    # Pie chart parameters\n",
    "    sizes = sorted_counts / (total_books * 3)  # Normalize the sizes\n",
    "    color_patches = [tuple(color / 255) for color in sorted_colors]  # Convert RGB to matplotlib's format\n",
    "\n",
    "    # Create pie chart\n",
    "    plt.figure(figsize=(6, 6))\n",
    "    plt.pie(sizes, colors=color_patches, startangle=90)\n",
    "    plt.title(f\"Top Colors for {genre} Genre\")\n",
    "    plt.axis('equal')  # Equal aspect ratio ensures the pie is drawn as a circle\n",
    "    plt.show()\n",
    "\n",
    "# Main function to process all genres and display pie charts\n",
    "def main():\n",
    "    genres = {\n",
    "        'afropes': 'data/afropes',\n",
    "       # 'russian': 'data/russian',\n",
    "       # 'teaching': 'data/teaching'\n",
    "    }\n",
    "\n",
    "    total_books = 25  # Assuming 25 books across all genres\n",
    "    all_genres_colors = {}  # Dictionary to store colors for all genres\n",
    "\n",
    "    for genre, path in genres.items():\n",
    "        print(f\"Processing genre: {genre}\")\n",
    "        if not os.path.exists(path):\n",
    "            print(f\"Directory {path} does not exist!\")  # Debug: Check if directory exists\n",
    "            continue\n",
    "        genre_colors = process_directory(path, genre)\n",
    "        all_genres_colors[genre] = genre_colors\n",
    "\n",
    "    # Create pie chart for each genre\n",
    "    for genre, colors_list in all_genres_colors.items():\n",
    "        if not colors_list:\n",
    "            print(f\"No images processed for {genre} genre.\")\n",
    "            continue\n",
    "        create_genre_pie_chart(genre, colors_list, total_books)\n",
    "\n",
    "if __name__ == \"__main__\":\n",
    "    main()\n"
   ]
  }
 ],
 "metadata": {
  "kernelspec": {
   "display_name": "color_density",
   "language": "python",
   "name": "python3"
  },
  "language_info": {
   "codemirror_mode": {
    "name": "ipython",
    "version": 3
   },
   "file_extension": ".py",
   "mimetype": "text/x-python",
   "name": "python",
   "nbconvert_exporter": "python",
   "pygments_lexer": "ipython3",
   "version": "3.8.20"
  }
 },
 "nbformat": 4,
 "nbformat_minor": 2
}
